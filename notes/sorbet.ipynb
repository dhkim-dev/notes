{
 "cells": [
  {
   "cell_type": "markdown",
   "id": "3f8782ab",
   "metadata": {},
   "source": [
    "### `sorbet`\n",
    "\n",
    "In brief, Sorbet is a gem that type-checks Ruby code. This is something we want to do more of in our repos."
   ]
  },
  {
   "cell_type": "markdown",
   "id": "781375a8",
   "metadata": {},
   "source": [
    "### `types`\n",
    "\n",
    "Every Ruby class/module is a type that Sorbet can understand. In addition, Sorbet comes with additional types like `Boolean` to get over the fact that there is no such a class in Ruby."
   ]
  },
  {
   "cell_type": "markdown",
   "id": "1c332a02",
   "metadata": {},
   "source": [
    "### `typed methods`\n",
    "\n",
    "The function signature as you may call it in other languages."
   ]
  },
  {
   "cell_type": "code",
   "execution_count": 4,
   "id": "d26e80f8",
   "metadata": {},
   "outputs": [
    {
     "ename": "RuntimeError",
     "evalue": "You called sig twice without declaring a method in between",
     "output_type": "error",
     "traceback": [
      "\u001b[31mRuntimeError\u001b[0m: You called sig twice without declaring a method in between",
      "/Users/icncsx/.gem/ruby/3.1.0/gems/sorbet-runtime-0.5.9482/lib/types/private/methods/_methods.rb:50:in `_declare_sig_internal'",
      "/Users/icncsx/.gem/ruby/3.1.0/gems/sorbet-runtime-0.5.9482/lib/types/private/methods/_methods.rb:35:in `declare_sig'",
      "/Users/icncsx/.gem/ruby/3.1.0/gems/sorbet-runtime-0.5.9482/lib/types/sig.rb:28:in `sig'",
      "(irb):1:in `<top (required)>'"
     ]
    }
   ],
   "source": [
    "# no args w/ return\n",
    "sig {returns(Integer)}\n",
    "def pokemon_count\n",
    "  \"151\"\n",
    "end\n",
    "\n",
    "pokemon_count"
   ]
  },
  {
   "cell_type": "code",
   "execution_count": 19,
   "id": "b4a4dc47",
   "metadata": {},
   "outputs": [
    {
     "ename": "RuntimeError",
     "evalue": "You called sig twice without declaring a method in between",
     "output_type": "error",
     "traceback": [
      "\u001b[31mRuntimeError\u001b[0m: You called sig twice without declaring a method in between",
      "/Users/icncsx/.gem/ruby/3.1.0/gems/sorbet-runtime-0.5.9482/lib/types/private/methods/_methods.rb:50:in `_declare_sig_internal'",
      "/Users/icncsx/.gem/ruby/3.1.0/gems/sorbet-runtime-0.5.9482/lib/types/private/methods/_methods.rb:35:in `declare_sig'",
      "/Users/icncsx/.gem/ruby/3.1.0/gems/sorbet-runtime-0.5.9482/lib/types/sig.rb:28:in `sig'",
      "(irb):6:in `<top (required)>'"
     ]
    }
   ],
   "source": [
    "# no args w/ return\n",
    "sig {returns(Integer)}\n",
    "def pokemon_count\n",
    "  return 151\n",
    "end\n",
    "\n",
    "sig {returns(Integer)}\n",
    "def age\n",
    "  25\n",
    "end"
   ]
  },
  {
   "cell_type": "code",
   "execution_count": null,
   "id": "9aacd4d3",
   "metadata": {},
   "outputs": [],
   "source": []
  },
  {
   "cell_type": "code",
   "execution_count": 16,
   "id": "e3f034e3",
   "metadata": {},
   "outputs": [
    {
     "data": {
      "text/plain": [
       ":pokemon_count"
      ]
     },
     "execution_count": 16,
     "metadata": {},
     "output_type": "execute_result"
    }
   ],
   "source": [
    "# no args w/ return\n",
    "sig {returns(Integer)}\n",
    "def pokemon_count\n",
    "  return 151\n",
    "end"
   ]
  },
  {
   "cell_type": "code",
   "execution_count": null,
   "id": "b46113e1",
   "metadata": {},
   "outputs": [],
   "source": []
  },
  {
   "cell_type": "code",
   "execution_count": 13,
   "id": "dec2db4d",
   "metadata": {},
   "outputs": [
    {
     "ename": "RuntimeError",
     "evalue": "You called sig twice without declaring a method in between",
     "output_type": "error",
     "traceback": [
      "\u001b[31mRuntimeError\u001b[0m: You called sig twice without declaring a method in between",
      "/Users/icncsx/.gem/ruby/3.1.0/gems/sorbet-runtime-0.5.9482/lib/types/private/methods/_methods.rb:50:in `_declare_sig_internal'",
      "/Users/icncsx/.gem/ruby/3.1.0/gems/sorbet-runtime-0.5.9482/lib/types/private/methods/_methods.rb:35:in `declare_sig'",
      "/Users/icncsx/.gem/ruby/3.1.0/gems/sorbet-runtime-0.5.9482/lib/types/sig.rb:28:in `sig'",
      "(irb):1:in `<class:Something>'",
      "(irb):in `<top (required)>'"
     ]
    }
   ],
   "source": [
    "class Something\n",
    "  sig {params(x: Float).returns(String)}\n",
    "  def float_to_string(x)\n",
    "    x.to_s\n",
    "  end\n",
    "end"
   ]
  },
  {
   "cell_type": "code",
   "execution_count": null,
   "id": "83a3cb9d",
   "metadata": {},
   "outputs": [],
   "source": []
  },
  {
   "cell_type": "code",
   "execution_count": 6,
   "id": "181ffaa8",
   "metadata": {},
   "outputs": [
    {
     "ename": "RuntimeError",
     "evalue": "You called sig twice without declaring a method in between",
     "output_type": "error",
     "traceback": [
      "\u001b[31mRuntimeError\u001b[0m: You called sig twice without declaring a method in between",
      "/Users/icncsx/.gem/ruby/3.1.0/gems/sorbet-runtime-0.5.9482/lib/types/private/methods/_methods.rb:50:in `_declare_sig_internal'",
      "/Users/icncsx/.gem/ruby/3.1.0/gems/sorbet-runtime-0.5.9482/lib/types/private/methods/_methods.rb:35:in `declare_sig'",
      "/Users/icncsx/.gem/ruby/3.1.0/gems/sorbet-runtime-0.5.9482/lib/types/sig.rb:28:in `sig'",
      "(irb):11:in `<top (required)>'"
     ]
    }
   ],
   "source": [
    "# typed: true\n",
    "require 'sorbet-runtime'\n",
    "extend T::Sig\n",
    "\n",
    "# no args w/ return\n",
    "sig {returns(Integer)}\n",
    "def pokemon_count\n",
    "  return 151\n",
    "end\n",
    "\n",
    "# args w/ return\n",
    "sig {params(x: Integer, y: Integer).returns(Integer)}\n",
    "def add_two_integers(x, y)\n",
    "  # return \" \"\n",
    "  return x + y\n",
    "end\n",
    "\n",
    "pokemon_count(3, 4)"
   ]
  },
  {
   "cell_type": "code",
   "execution_count": 3,
   "id": "419d0d70",
   "metadata": {},
   "outputs": [
    {
     "data": {
      "text/plain": [
       "Numeric"
      ]
     },
     "execution_count": 3,
     "metadata": {},
     "output_type": "execute_result"
    }
   ],
   "source": [
    "4.0.class.superclass"
   ]
  },
  {
   "cell_type": "code",
   "execution_count": null,
   "id": "9dba8a95",
   "metadata": {},
   "outputs": [],
   "source": [
    "Integer\n",
    "Boolean\n",
    "Symbol\n",
    "Float"
   ]
  },
  {
   "cell_type": "code",
   "execution_count": null,
   "id": "a86f58b3",
   "metadata": {},
   "outputs": [],
   "source": []
  },
  {
   "cell_type": "code",
   "execution_count": null,
   "id": "024f8f08",
   "metadata": {},
   "outputs": [],
   "source": []
  },
  {
   "cell_type": "code",
   "execution_count": null,
   "id": "d490c673",
   "metadata": {},
   "outputs": [],
   "source": []
  },
  {
   "cell_type": "code",
   "execution_count": null,
   "id": "f24d8db7",
   "metadata": {},
   "outputs": [],
   "source": []
  },
  {
   "cell_type": "code",
   "execution_count": 5,
   "id": "4210a5b0",
   "metadata": {},
   "outputs": [
    {
     "data": {
      "text/plain": [
       "Integer"
      ]
     },
     "execution_count": 5,
     "metadata": {},
     "output_type": "execute_result"
    }
   ],
   "source": [
    "4.class"
   ]
  },
  {
   "cell_type": "code",
   "execution_count": 7,
   "id": "ec4b3635",
   "metadata": {},
   "outputs": [
    {
     "data": {
      "text/plain": [
       "Object"
      ]
     },
     "execution_count": 7,
     "metadata": {},
     "output_type": "execute_result"
    }
   ],
   "source": [
    "true.class.superclass"
   ]
  },
  {
   "cell_type": "code",
   "execution_count": 22,
   "id": "082fa98a",
   "metadata": {},
   "outputs": [
    {
     "data": {
      "text/plain": [
       "12"
      ]
     },
     "execution_count": 22,
     "metadata": {},
     "output_type": "execute_result"
    }
   ],
   "source": [
    "# typed: true\n",
    "require 'sorbet-runtime'\n",
    "\n",
    "class Main\n",
    "  # Bring the `sig` method into scope\n",
    "  extend T::Sig\n",
    "\n",
    "  sig {params(x: String).returns(Integer)}\n",
    "  def self.main(x)\n",
    "    x.length\n",
    "  end\n",
    "end\n",
    "\n",
    "Main.main(\"hello, world\")\n",
    "# Main.main(4)"
   ]
  },
  {
   "cell_type": "markdown",
   "id": "ac7d6af7",
   "metadata": {},
   "source": [
    "### Ruby list of types\n",
    "\n",
    "- Boolean\n",
    "\n",
    "- Strings\n",
    "\n",
    "- Hashes\n",
    "\n",
    "- Arrays\n",
    "\n",
    "- Symbols"
   ]
  },
  {
   "cell_type": "code",
   "execution_count": 3,
   "id": "2bc6e189",
   "metadata": {},
   "outputs": [
    {
     "data": {
      "text/plain": [
       ":greet"
      ]
     },
     "execution_count": 3,
     "metadata": {},
     "output_type": "execute_result"
    }
   ],
   "source": [
    "sig {params(x: Integer, y: SomeOtherType).returns(MyReturnType)}\n",
    "def greet(x, y)\n",
    "  puts \"Hello, world\"\n",
    "end"
   ]
  },
  {
   "cell_type": "code",
   "execution_count": null,
   "id": "e63cdae4",
   "metadata": {},
   "outputs": [],
   "source": []
  },
  {
   "cell_type": "code",
   "execution_count": null,
   "id": "1b8f12e2",
   "metadata": {},
   "outputs": [],
   "source": []
  },
  {
   "cell_type": "code",
   "execution_count": null,
   "id": "36691dc9",
   "metadata": {},
   "outputs": [],
   "source": []
  },
  {
   "cell_type": "code",
   "execution_count": null,
   "id": "c90655a5",
   "metadata": {},
   "outputs": [],
   "source": []
  },
  {
   "cell_type": "markdown",
   "id": "c8b95fd2",
   "metadata": {},
   "source": [
    "### `installation`\n",
    "\n",
    "There are two gems you need to install: `sorbet` and `sorbet-runtime`.\n",
    "  \n",
    "### Setup stuff like that goes in here..."
   ]
  }
 ],
 "metadata": {
  "kernelspec": {
   "display_name": "Ruby 3.1.0",
   "language": "ruby",
   "name": "ruby"
  },
  "language_info": {
   "file_extension": ".rb",
   "mimetype": "application/x-ruby",
   "name": "ruby",
   "version": "3.1.0"
  }
 },
 "nbformat": 4,
 "nbformat_minor": 5
}
