{
 "cells": [
  {
   "cell_type": "code",
   "execution_count": 2,
   "id": "082fa98a",
   "metadata": {},
   "outputs": [
    {
     "ename": "TypeError",
     "evalue": "Parameter 'x': Expected type String, got type Integer with value 4\nCaller: (irb):13\nDefinition: (irb):8",
     "output_type": "error",
     "traceback": [
      "\u001b[31mTypeError\u001b[0m: Parameter 'x': Expected type String, got type Integer with value 4\nCaller: (irb):13\nDefinition: (irb):8",
      "/Users/icncsx/.gem/ruby/3.1.0/gems/sorbet-runtime-0.5.9482/lib/types/configuration.rb:291:in `call_validation_error_handler_default'",
      "/Users/icncsx/.gem/ruby/3.1.0/gems/sorbet-runtime-0.5.9482/lib/types/configuration.rb:298:in `call_validation_error_handler'",
      "/Users/icncsx/.gem/ruby/3.1.0/gems/sorbet-runtime-0.5.9482/lib/types/private/methods/call_validation.rb:191:in `report_error'",
      "/Users/icncsx/.gem/ruby/3.1.0/gems/sorbet-runtime-0.5.9482/lib/types/private/methods/call_validation.rb:120:in `block in validate_call'",
      "/Users/icncsx/.gem/ruby/3.1.0/gems/sorbet-runtime-0.5.9482/lib/types/private/methods/signature.rb:192:in `each_args_value_type'",
      "/Users/icncsx/.gem/ruby/3.1.0/gems/sorbet-runtime-0.5.9482/lib/types/private/methods/call_validation.rb:117:in `validate_call'",
      "/Users/icncsx/.gem/ruby/3.1.0/gems/sorbet-runtime-0.5.9482/lib/types/private/methods/_methods.rb:270:in `block in _on_method_added'",
      "(irb):13:in `<top (required)>'"
     ]
    }
   ],
   "source": [
    "# typed: true\n",
    "require 'sorbet-runtime'\n",
    "\n",
    "class Main\n",
    "  # Bring the `sig` method into scope\n",
    "  extend T::Sig\n",
    "\n",
    "  sig {params(x: String).returns(Integer)}\n",
    "  def self.main(x)\n",
    "    x.length\n",
    "  end\n",
    "end\n",
    "\n",
    "Main.main(4)"
   ]
  },
  {
   "cell_type": "markdown",
   "id": "ac7d6af7",
   "metadata": {},
   "source": [
    "### Ruby list of types\n",
    "\n",
    "- Boolean\n",
    "\n",
    "- Strings\n",
    "\n",
    "- Hashes\n",
    "\n",
    "- Arrays\n",
    "\n",
    "- Symbols"
   ]
  },
  {
   "cell_type": "markdown",
   "id": "35e89bf6",
   "metadata": {},
   "source": [
    "### `Numbers`"
   ]
  },
  {
   "cell_type": "code",
   "execution_count": 16,
   "id": "504370fa",
   "metadata": {},
   "outputs": [
    {
     "data": {
      "text/plain": [
       "Integer"
      ]
     },
     "execution_count": 16,
     "metadata": {},
     "output_type": "execute_result"
    }
   ],
   "source": [
    "1.class"
   ]
  },
  {
   "cell_type": "code",
   "execution_count": 17,
   "id": "44b81ec3",
   "metadata": {},
   "outputs": [
    {
     "data": {
      "text/plain": [
       "Float"
      ]
     },
     "execution_count": 17,
     "metadata": {},
     "output_type": "execute_result"
    }
   ],
   "source": [
    "1.0.class"
   ]
  },
  {
   "cell_type": "markdown",
   "id": "b5eeb9f4",
   "metadata": {},
   "source": [
    "### `Boolean`"
   ]
  },
  {
   "cell_type": "code",
   "execution_count": 18,
   "id": "a91664e9",
   "metadata": {},
   "outputs": [
    {
     "data": {
      "text/plain": [
       "TrueClass"
      ]
     },
     "execution_count": 18,
     "metadata": {},
     "output_type": "execute_result"
    }
   ],
   "source": [
    "true.class"
   ]
  },
  {
   "cell_type": "code",
   "execution_count": 21,
   "id": "2aaa312e",
   "metadata": {},
   "outputs": [
    {
     "data": {
      "text/plain": [
       "FalseClass"
      ]
     },
     "execution_count": 21,
     "metadata": {},
     "output_type": "execute_result"
    }
   ],
   "source": [
    "false.class"
   ]
  },
  {
   "cell_type": "code",
   "execution_count": null,
   "id": "b48ebda7",
   "metadata": {},
   "outputs": [],
   "source": []
  },
  {
   "cell_type": "code",
   "execution_count": null,
   "id": "581b6936",
   "metadata": {},
   "outputs": [],
   "source": []
  },
  {
   "cell_type": "code",
   "execution_count": 3,
   "id": "2bc6e189",
   "metadata": {},
   "outputs": [
    {
     "data": {
      "text/plain": [
       ":greet"
      ]
     },
     "execution_count": 3,
     "metadata": {},
     "output_type": "execute_result"
    }
   ],
   "source": [
    "sig {params(x: Integer, y: SomeOtherType).returns(MyReturnType)}\n",
    "def greet(x, y)\n",
    "  puts \"Hello, world\"\n",
    "end"
   ]
  },
  {
   "cell_type": "code",
   "execution_count": 4,
   "id": "809b8f67",
   "metadata": {},
   "outputs": [
    {
     "name": "stdout",
     "output_type": "stream",
     "text": [
      "Hello, world\n"
     ]
    }
   ],
   "source": []
  },
  {
   "cell_type": "code",
   "execution_count": null,
   "id": "9e5aa7e9",
   "metadata": {},
   "outputs": [],
   "source": []
  }
 ],
 "metadata": {
  "kernelspec": {
   "display_name": "Ruby 3.1.0",
   "language": "ruby",
   "name": "ruby"
  },
  "language_info": {
   "file_extension": ".rb",
   "mimetype": "application/x-ruby",
   "name": "ruby",
   "version": "3.1.0"
  }
 },
 "nbformat": 4,
 "nbformat_minor": 5
}
