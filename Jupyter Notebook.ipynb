{
 "cells": [
  {
   "cell_type": "markdown",
   "id": "ec4954d8",
   "metadata": {},
   "source": [
    "# jupyter notebook\n",
    "\n",
    "Jupyter Notebook is a program that produces documents which largely contain executable code and markdown. Notebooks are great for rapid experiments and knowledge sharing.\n",
    "\n",
    "I first used them when I wanted to experiment with Sorbet types."
   ]
  },
  {
   "cell_type": "code",
   "execution_count": 7,
   "id": "c4841a23",
   "metadata": {},
   "outputs": [
    {
     "data": {
      "text/plain": [
       "[1, 4, 9, 16, 25, 36, 49, 64, 81]"
      ]
     },
     "execution_count": 7,
     "metadata": {},
     "output_type": "execute_result"
    }
   ],
   "source": [
    "# arbitrary python code\n",
    "\n",
    "list(map(lambda x: x**2, range(1, 10)))"
   ]
  },
  {
   "cell_type": "code",
   "execution_count": 17,
   "id": "2e498989",
   "metadata": {},
   "outputs": [
    {
     "ename": "SyntaxError",
     "evalue": "invalid syntax (2794363101.py, line 3)",
     "output_type": "error",
     "traceback": [
      "\u001b[0;36m  File \u001b[0;32m\"/var/folders/_s/8yvhsf_s5js8v239vgl6r4ph0000gn/T/ipykernel_91353/2794363101.py\"\u001b[0;36m, line \u001b[0;32m3\u001b[0m\n\u001b[0;31m    puts \"Hello, world\"\u001b[0m\n\u001b[0m         ^\u001b[0m\n\u001b[0;31mSyntaxError\u001b[0m\u001b[0;31m:\u001b[0m invalid syntax\n"
     ]
    }
   ],
   "source": [
    "# can I run arbitrary ruby code? let's see!\n",
    "\n",
    "puts \"Hello, world\""
   ]
  },
  {
   "cell_type": "markdown",
   "id": "e7788e6f",
   "metadata": {},
   "source": [
    "### kernels\n",
    "\n",
    "From the [docs](https://jupyter-notebook-beginner-guide.readthedocs.io/en/latest/what_is_jupyter.html):\n",
    "\n",
    "> A notebook kernel is a computational engine that executes the code contained in a Notebook document. The ipython kernel, referenced in this guide, executes python code. Kernels for many other languages exist (official kernels).\n",
    "\n",
    "This notebook was created w/ a Python kernel. Therefore, you can only run Python3 code here. To run Ruby code, you must create a separate notebook w/ a compatible Ruby kernel."
   ]
  },
  {
   "cell_type": "markdown",
   "id": "8ed81af5",
   "metadata": {},
   "source": [
    "### installation\n",
    "\n",
    "`python3` and `pip3` (python3 package manager) should come pre-installed in M1 macbook.\n",
    "\n",
    "```bash\n",
    "> pip3 install jupyter\n",
    "```"
   ]
  },
  {
   "cell_type": "markdown",
   "id": "663bfcc9",
   "metadata": {},
   "source": [
    "### list available kernels\n",
    "\n",
    "The default kernel that comes installed w/ jupyter is a `python3` kernel, so you will see that this\n",
    "\n",
    "```bash\n",
    "> jupyter kernelspec list \n",
    "...\n",
    "Available kernels:\n",
    "  python3       /opt/homebrew/lib/python3.9/site-packages/ipykernel/resources\n",
    "  javascript    /Users/icncsx/Library/Jupyter/kernels/javascript\n",
    "  ruby          /Users/icncsx/Library/Jupyter/kernels/ruby\n",
    "```"
   ]
  },
  {
   "cell_type": "markdown",
   "id": "d52247d5",
   "metadata": {},
   "source": [
    "### launch jupyter\n",
    "\n",
    "The `jupyter notebook` command starts a server that renders an interactive notebook. To access the notebook, paste one of the URLs in the browser. \n",
    "\n",
    "```bash\n",
    "> jupyter notebook\n",
    "...\n",
    "    To access the notebook, open this file in a browser:\n",
    "        file:///Users/icncsx/Library/Jupyter/runtime/nbserver-91344-open.html\n",
    "    Or copy and paste one of these URLs:\n",
    "        http://localhost:8888/?token=21973ee7daa1852f0e0268028b5fd888d78038787912e995\n",
    "     or http://127.0.0.1:8888/?token=21973ee7daa1852f0e0268028b5fd888d78038787912e995  \n",
    "```"
   ]
  },
  {
   "cell_type": "markdown",
   "id": "ca4ef483",
   "metadata": {},
   "source": [
    "### select desired kernel for the notebook\n",
    "\n",
    "The kernel is the code execution engine. Each notebook has an associated kernel. A notebook that is configured with a Python kernel cannot run Ruby code.\n",
    "\n",
    "<br />\n",
    "\n",
    "<img style=\"width: 300px\" src=\"./imgs/kernel-select.png\" alt=\"kernel-select\">"
   ]
  },
  {
   "cell_type": "markdown",
   "id": "a176bfb0",
   "metadata": {},
   "source": [
    "### install more kernels\n",
    "\n",
    "To install a Ruby kernel, you must first have a Ruby interpreter installed. If you've installed `dev` correctly, you will already have [`chruby`](https://github.com/postmodern/chruby#readme) installed. The only addition you may need to install is [`\n",
    "ruby-install`](https://github.com/postmodern/ruby-install).\n",
    "\n",
    "```bash\n",
    "> brew install ruby-install\n",
    "```\n",
    "\n",
    "Then run `ruby-install` to list the exact Ruby version you want to install. `3.1.0` was the latest version at the time of authoring this document.\n",
    "\n",
    "```bash\n",
    "> ruby-install ruby 3.1.0\n",
    "```\n",
    "\n",
    "\n",
    "Then run `chruby` to see a list of avaiable Ruby runtimes. You should see your recent installation and decide if you want to change to a different ruby.\n",
    "\n",
    "```bash\n",
    "> chruby\n",
    "> chruby ruby-3.1.0 # change the current ruby to 3.1.0\n",
    "> which ruby # confirm chruby worked\n",
    "> ruby --version # confirm chruby worked\n",
    "```\n",
    "\n",
    "Ok, so now that you have the Ruby version you want installed and set to the current ruby, you are ready to install the [`iruby`](https://github.com/SciRuby/iruby) gem (ruby kernel for jupyter notebook).\n",
    "\n",
    "```bash\n",
    "> gem install iruby\n",
    "> iruby register --force\n",
    "```\n",
    "\n",
    "You should confirm that iruby kernel has been installed properly to work with Jupyter Notebook.\n",
    "\n",
    "```bash\n",
    "> jupyter kernelspec list # you should see an entry for a Ruby kernel\n",
    "> jupyter notebook # launch jupyter notebook and select the kernel to create a Ruby notebook\n",
    "```\n",
    "\n",
    "<hr />\n",
    "\n",
    "There are a ton of other kernels besides Ruby and Python ones. The Node.js kernel is pretty popular. See list of [kernels](https://github.com/n-riesco/ijavascript) available."
   ]
  }
 ],
 "metadata": {
  "kernelspec": {
   "display_name": "Python 3 (ipykernel)",
   "language": "python",
   "name": "python3"
  },
  "language_info": {
   "codemirror_mode": {
    "name": "ipython",
    "version": 3
   },
   "file_extension": ".py",
   "mimetype": "text/x-python",
   "name": "python",
   "nbconvert_exporter": "python",
   "pygments_lexer": "ipython3",
   "version": "3.9.9"
  }
 },
 "nbformat": 4,
 "nbformat_minor": 5
}
