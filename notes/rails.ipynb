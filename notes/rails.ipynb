{
 "cells": [
  {
   "cell_type": "markdown",
   "id": "4b9ff5e6",
   "metadata": {},
   "source": [
    "### `request`\n",
    "\n",
    "Get information about the request url.\n",
    "\n",
    "```rb\n",
    "request\n",
    "request.port\n",
    "request.host\n",
    "request.full_path\n",
    "request.base_url\n",
    "request.original_fullpath\n",
    "request.orignal_url\n",
    "\n",
    "url_for(action: 'find', controller: 'books') %>\n",
    "```\n",
    "\n",
    "### `params`\n",
    "\n",
    "request params\n",
    "\n",
    "```rb\n",
    "params\n",
    "params[:user]\n",
    "```\n",
    "\n",
    "\n",
    "### `cookies`\n",
    "\n",
    "```rb\n",
    "cookies # behaves like a hash\n",
    "\n",
    "cookies.map |d| do\n",
    "    p cookie\n",
    "end\n",
    "Rails.logger.debug(cookies.map { |cookie| cookie.join('=') }.join(\"\\n\"))\n",
    "\n",
    "cookies[:user_name]\n",
    "```"
   ]
  }
 ],
 "metadata": {
  "kernelspec": {
   "display_name": "Python 3 (ipykernel)",
   "language": "python",
   "name": "python3"
  },
  "language_info": {
   "codemirror_mode": {
    "name": "ipython",
    "version": 3
   },
   "file_extension": ".py",
   "mimetype": "text/x-python",
   "name": "python",
   "nbconvert_exporter": "python",
   "pygments_lexer": "ipython3",
   "version": "3.9.9"
  }
 },
 "nbformat": 4,
 "nbformat_minor": 5
}
