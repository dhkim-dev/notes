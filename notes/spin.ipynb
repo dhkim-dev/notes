{
 "cells": [
  {
   "cell_type": "markdown",
   "id": "339d94ca",
   "metadata": {},
   "source": [
    "### `frequently used commands`"
   ]
  },
  {
   "cell_type": "markdown",
   "id": "c1052838",
   "metadata": {},
   "source": [
    "```bash\n",
    "\n",
    "# see the instances you currently have\n",
    "spin list\n",
    "\n",
    "# switch which default instance you are operating on. By default it's the one you created last\n",
    "spin use <instance>\n",
    "\n",
    "# if nothing shows up, you will create an environment with pay, shopify and checkout-web configured\n",
    "spin create pay,checkout-web\n",
    "\n",
    "# destroy an instance you no longer need\n",
    "spin destroy <instance>\n",
    "\n",
    "# open a cloud editor for that instance.\n",
    "spin code-server\n",
    "spin code\n",
    "\n",
    "# open the default URL for that instance\n",
    "spin open\n",
    "\n",
    "# open a shell (SSH) to the instance\n",
    "spin shell: Open a shell (SSH) to the instance.\n",
    "```"
   ]
  },
  {
   "cell_type": "code",
   "execution_count": null,
   "id": "c4788da6",
   "metadata": {},
   "outputs": [],
   "source": []
  },
  {
   "cell_type": "code",
   "execution_count": null,
   "id": "5b4afe75",
   "metadata": {},
   "outputs": [],
   "source": []
  },
  {
   "cell_type": "code",
   "execution_count": null,
   "id": "27097fae",
   "metadata": {},
   "outputs": [],
   "source": []
  },
  {
   "cell_type": "code",
   "execution_count": null,
   "id": "a8af513c",
   "metadata": {},
   "outputs": [],
   "source": []
  },
  {
   "cell_type": "code",
   "execution_count": null,
   "id": "23ea8621",
   "metadata": {},
   "outputs": [],
   "source": [
    "# assuming pay is the repo you're developing on.\n",
    "spin create pay@my-fix-branch"
   ]
  },
  {
   "cell_type": "code",
   "execution_count": null,
   "id": "940bb164",
   "metadata": {},
   "outputs": [],
   "source": []
  }
 ],
 "metadata": {
  "kernelspec": {
   "display_name": "Python 3 (ipykernel)",
   "language": "python",
   "name": "python3"
  },
  "language_info": {
   "codemirror_mode": {
    "name": "ipython",
    "version": 3
   },
   "file_extension": ".py",
   "mimetype": "text/x-python",
   "name": "python",
   "nbconvert_exporter": "python",
   "pygments_lexer": "ipython3",
   "version": "3.9.9"
  }
 },
 "nbformat": 4,
 "nbformat_minor": 5
}
