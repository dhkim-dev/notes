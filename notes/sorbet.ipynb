{
 "cells": [
  {
   "cell_type": "markdown",
   "id": "3f8782ab",
   "metadata": {},
   "source": [
    "### `sorbet`\n",
    "\n",
    "In brief, Sorbet is a gem that type-checks Ruby code. This is something we want to do more of in our repos."
   ]
  },
  {
   "cell_type": "markdown",
   "id": "9d119cdb",
   "metadata": {},
   "source": [
    "### `installation`\n",
    "\n",
    "There are two gems you need to install: `sorbet` and `sorbet-runtime`.\n",
    "\n",
    "```rb\n",
    "# -- Gemfile --\n",
    "\n",
    "gem 'sorbet', :group => :development\n",
    "gem 'sorbet-runtime'\n",
    "```\n",
    "\n",
    "Then include this snippet in your files:\n",
    "\n",
    "```rb\n",
    "# typed: true\n",
    "extend T::Sig\n",
    "```"
   ]
  },
  {
   "cell_type": "markdown",
   "id": "a704c012",
   "metadata": {},
   "source": [
    "### `examples`\n",
    "\n",
    "- \n",
    "-\n",
    "-"
   ]
  }
 ],
 "metadata": {
  "kernelspec": {
   "display_name": "Ruby 3.1.0",
   "language": "ruby",
   "name": "ruby"
  },
  "language_info": {
   "file_extension": ".rb",
   "mimetype": "application/x-ruby",
   "name": "ruby",
   "version": "3.1.0"
  }
 },
 "nbformat": 4,
 "nbformat_minor": 5
}
